{
 "cells": [
  {
   "cell_type": "code",
   "execution_count": 1,
   "metadata": {
    "ExecuteTime": {
     "end_time": "2019-11-02T18:23:51.092001Z",
     "start_time": "2019-11-02T18:23:50.052924Z"
    }
   },
   "outputs": [],
   "source": [
    "import pandas as pd\n",
    "from sqlalchemy import create_engine"
   ]
  },
  {
   "cell_type": "markdown",
   "metadata": {},
   "source": [
    "### Extract CSVs into DataFrames"
   ]
  },
  {
   "cell_type": "code",
   "execution_count": 12,
   "metadata": {
    "ExecuteTime": {
     "end_time": "2019-11-02T18:34:24.807521Z",
     "start_time": "2019-11-02T18:34:22.622380Z"
    },
    "scrolled": false
   },
   "outputs": [
    {
     "data": {
      "text/html": [
       "<div>\n",
       "<style scoped>\n",
       "    .dataframe tbody tr th:only-of-type {\n",
       "        vertical-align: middle;\n",
       "    }\n",
       "\n",
       "    .dataframe tbody tr th {\n",
       "        vertical-align: top;\n",
       "    }\n",
       "\n",
       "    .dataframe thead th {\n",
       "        text-align: right;\n",
       "    }\n",
       "</style>\n",
       "<table border=\"1\" class=\"dataframe\">\n",
       "  <thead>\n",
       "    <tr style=\"text-align: right;\">\n",
       "      <th></th>\n",
       "      <th>population</th>\n",
       "      <th>minimum_age</th>\n",
       "      <th>maximum_age</th>\n",
       "      <th>gender</th>\n",
       "      <th>zipcode</th>\n",
       "      <th>geo_id</th>\n",
       "    </tr>\n",
       "  </thead>\n",
       "  <tbody>\n",
       "    <tr>\n",
       "      <td>0</td>\n",
       "      <td>50</td>\n",
       "      <td>30.0</td>\n",
       "      <td>34.0</td>\n",
       "      <td>female</td>\n",
       "      <td>61747</td>\n",
       "      <td>8600000US61747</td>\n",
       "    </tr>\n",
       "    <tr>\n",
       "      <td>1</td>\n",
       "      <td>5</td>\n",
       "      <td>85.0</td>\n",
       "      <td>NaN</td>\n",
       "      <td>male</td>\n",
       "      <td>64120</td>\n",
       "      <td>8600000US64120</td>\n",
       "    </tr>\n",
       "    <tr>\n",
       "      <td>2</td>\n",
       "      <td>1389</td>\n",
       "      <td>30.0</td>\n",
       "      <td>34.0</td>\n",
       "      <td>male</td>\n",
       "      <td>95117</td>\n",
       "      <td>8600000US95117</td>\n",
       "    </tr>\n",
       "    <tr>\n",
       "      <td>3</td>\n",
       "      <td>231</td>\n",
       "      <td>60.0</td>\n",
       "      <td>61.0</td>\n",
       "      <td>female</td>\n",
       "      <td>74074</td>\n",
       "      <td>8600000US74074</td>\n",
       "    </tr>\n",
       "    <tr>\n",
       "      <td>4</td>\n",
       "      <td>56</td>\n",
       "      <td>0.0</td>\n",
       "      <td>4.0</td>\n",
       "      <td>female</td>\n",
       "      <td>58042</td>\n",
       "      <td>8600000US58042</td>\n",
       "    </tr>\n",
       "  </tbody>\n",
       "</table>\n",
       "</div>"
      ],
      "text/plain": [
       "   population  minimum_age  maximum_age  gender  zipcode          geo_id\n",
       "0          50         30.0         34.0  female    61747  8600000US61747\n",
       "1           5         85.0          NaN    male    64120  8600000US64120\n",
       "2        1389         30.0         34.0    male    95117  8600000US95117\n",
       "3         231         60.0         61.0  female    74074  8600000US74074\n",
       "4          56          0.0          4.0  female    58042  8600000US58042"
      ]
     },
     "execution_count": 12,
     "metadata": {},
     "output_type": "execute_result"
    }
   ],
   "source": [
    "zip_file = \"population_by_zip_2010.csv\"\n",
    "zip_df = pd.read_csv(zip_file)\n",
    "zip_df.head()"
   ]
  },
  {
   "cell_type": "code",
   "execution_count": 3,
   "metadata": {
    "ExecuteTime": {
     "end_time": "2019-11-02T18:24:04.295323Z",
     "start_time": "2019-11-02T18:24:03.861292Z"
    }
   },
   "outputs": [
    {
     "data": {
      "text/html": [
       "<div>\n",
       "<style scoped>\n",
       "    .dataframe tbody tr th:only-of-type {\n",
       "        vertical-align: middle;\n",
       "    }\n",
       "\n",
       "    .dataframe tbody tr th {\n",
       "        vertical-align: top;\n",
       "    }\n",
       "\n",
       "    .dataframe thead th {\n",
       "        text-align: right;\n",
       "    }\n",
       "</style>\n",
       "<table border=\"1\" class=\"dataframe\">\n",
       "  <thead>\n",
       "    <tr style=\"text-align: right;\">\n",
       "      <th></th>\n",
       "      <th>ID</th>\n",
       "      <th>DOCKET NUMBER</th>\n",
       "      <th>NOV NUMBER</th>\n",
       "      <th>ADDRESS</th>\n",
       "      <th>STREET NUMBER</th>\n",
       "      <th>STREET DIRECTION</th>\n",
       "      <th>STREET NAME</th>\n",
       "      <th>STREET TYPE</th>\n",
       "      <th>WARD</th>\n",
       "      <th>ISSUING DEPARTMENT</th>\n",
       "      <th>...</th>\n",
       "      <th>VIOLATION DESCRIPTION</th>\n",
       "      <th>RESPONDENTS</th>\n",
       "      <th>LATITUDE</th>\n",
       "      <th>LONGITUDE</th>\n",
       "      <th>LOCATION</th>\n",
       "      <th>Historical Wards 2003-2015</th>\n",
       "      <th>Zip Codes</th>\n",
       "      <th>Community Areas</th>\n",
       "      <th>Census Tracts</th>\n",
       "      <th>Wards</th>\n",
       "    </tr>\n",
       "  </thead>\n",
       "  <tbody>\n",
       "    <tr>\n",
       "      <td>0</td>\n",
       "      <td>e7a5f1c88a4f8e4407830caea275d985e19b514f</td>\n",
       "      <td>10BS02725A</td>\n",
       "      <td>10LO249937</td>\n",
       "      <td>7347 W IRVING PARK RD</td>\n",
       "      <td>7347</td>\n",
       "      <td>W</td>\n",
       "      <td>IRVING PARK</td>\n",
       "      <td>RD</td>\n",
       "      <td>38.0</td>\n",
       "      <td>Buildings</td>\n",
       "      <td>...</td>\n",
       "      <td>Obtain permit before causing or commencing the...</td>\n",
       "      <td>FRANK CARBONARA | FRANK CARBONARA TRUST C/O FR...</td>\n",
       "      <td>41.952548</td>\n",
       "      <td>-87.811997</td>\n",
       "      <td>{'human_address': '{\"address\": \"\", \"city\": \"\",...</td>\n",
       "      <td>39.0</td>\n",
       "      <td>22254.0</td>\n",
       "      <td>17.0</td>\n",
       "      <td>392.0</td>\n",
       "      <td>19.0</td>\n",
       "    </tr>\n",
       "    <tr>\n",
       "      <td>1</td>\n",
       "      <td>8208b0059edd73ac9f1f2026443d60d3a57ed959</td>\n",
       "      <td>10BS02713A</td>\n",
       "      <td>10W0249913</td>\n",
       "      <td>6334 S CALIFORNIA AVE</td>\n",
       "      <td>6334</td>\n",
       "      <td>S</td>\n",
       "      <td>CALIFORNIA</td>\n",
       "      <td>AVE</td>\n",
       "      <td>17.0</td>\n",
       "      <td>Buildings</td>\n",
       "      <td>...</td>\n",
       "      <td>Repair or replace exterior balcony. (13-196-530)</td>\n",
       "      <td>BLANCA R CRUZ A/K/A BLANCA CRUZ</td>\n",
       "      <td>41.778042</td>\n",
       "      <td>-87.693511</td>\n",
       "      <td>{'human_address': '{\"address\": \"\", \"city\": \"\",...</td>\n",
       "      <td>44.0</td>\n",
       "      <td>21867.0</td>\n",
       "      <td>64.0</td>\n",
       "      <td>319.0</td>\n",
       "      <td>31.0</td>\n",
       "    </tr>\n",
       "    <tr>\n",
       "      <td>2</td>\n",
       "      <td>e326ee048b4249fbd261f53492e254fbbc86baa3</td>\n",
       "      <td>10BS02713A</td>\n",
       "      <td>10W0249913</td>\n",
       "      <td>6334 S CALIFORNIA AVE</td>\n",
       "      <td>6334</td>\n",
       "      <td>S</td>\n",
       "      <td>CALIFORNIA</td>\n",
       "      <td>AVE</td>\n",
       "      <td>17.0</td>\n",
       "      <td>Buildings</td>\n",
       "      <td>...</td>\n",
       "      <td>Equip exit door with door lock hardware so doo...</td>\n",
       "      <td>BLANCA R CRUZ A/K/A BLANCA CRUZ</td>\n",
       "      <td>41.778042</td>\n",
       "      <td>-87.693511</td>\n",
       "      <td>{'human_address': '{\"address\": \"\", \"city\": \"\",...</td>\n",
       "      <td>44.0</td>\n",
       "      <td>21867.0</td>\n",
       "      <td>64.0</td>\n",
       "      <td>319.0</td>\n",
       "      <td>31.0</td>\n",
       "    </tr>\n",
       "    <tr>\n",
       "      <td>3</td>\n",
       "      <td>16c61b0f79e7ba45b5cd2ff5c556b8c095a13b0c</td>\n",
       "      <td>10BS02713A</td>\n",
       "      <td>10W0249913</td>\n",
       "      <td>6334 S CALIFORNIA AVE</td>\n",
       "      <td>6334</td>\n",
       "      <td>S</td>\n",
       "      <td>CALIFORNIA</td>\n",
       "      <td>AVE</td>\n",
       "      <td>17.0</td>\n",
       "      <td>Buildings</td>\n",
       "      <td>...</td>\n",
       "      <td>Repair or replace defective lintels. (13-196-5...</td>\n",
       "      <td>BLANCA R CRUZ A/K/A BLANCA CRUZ</td>\n",
       "      <td>41.778042</td>\n",
       "      <td>-87.693511</td>\n",
       "      <td>{'human_address': '{\"address\": \"\", \"city\": \"\",...</td>\n",
       "      <td>44.0</td>\n",
       "      <td>21867.0</td>\n",
       "      <td>64.0</td>\n",
       "      <td>319.0</td>\n",
       "      <td>31.0</td>\n",
       "    </tr>\n",
       "    <tr>\n",
       "      <td>4</td>\n",
       "      <td>04462c58cc95b65389faf423022cb309535bc03a</td>\n",
       "      <td>10BS02713A</td>\n",
       "      <td>10W0249913</td>\n",
       "      <td>6334 S CALIFORNIA AVE</td>\n",
       "      <td>6334</td>\n",
       "      <td>S</td>\n",
       "      <td>CALIFORNIA</td>\n",
       "      <td>AVE</td>\n",
       "      <td>17.0</td>\n",
       "      <td>Buildings</td>\n",
       "      <td>...</td>\n",
       "      <td>Repair exterior wall. (13-196-010, 13-196-530 B)</td>\n",
       "      <td>BLANCA R CRUZ A/K/A BLANCA CRUZ</td>\n",
       "      <td>41.778042</td>\n",
       "      <td>-87.693511</td>\n",
       "      <td>{'human_address': '{\"address\": \"\", \"city\": \"\",...</td>\n",
       "      <td>44.0</td>\n",
       "      <td>21867.0</td>\n",
       "      <td>64.0</td>\n",
       "      <td>319.0</td>\n",
       "      <td>31.0</td>\n",
       "    </tr>\n",
       "  </tbody>\n",
       "</table>\n",
       "<p>5 rows × 27 columns</p>\n",
       "</div>"
      ],
      "text/plain": [
       "                                         ID DOCKET NUMBER  NOV NUMBER  \\\n",
       "0  e7a5f1c88a4f8e4407830caea275d985e19b514f    10BS02725A  10LO249937   \n",
       "1  8208b0059edd73ac9f1f2026443d60d3a57ed959    10BS02713A  10W0249913   \n",
       "2  e326ee048b4249fbd261f53492e254fbbc86baa3    10BS02713A  10W0249913   \n",
       "3  16c61b0f79e7ba45b5cd2ff5c556b8c095a13b0c    10BS02713A  10W0249913   \n",
       "4  04462c58cc95b65389faf423022cb309535bc03a    10BS02713A  10W0249913   \n",
       "\n",
       "                 ADDRESS  STREET NUMBER STREET DIRECTION  STREET NAME  \\\n",
       "0  7347 W IRVING PARK RD           7347                W  IRVING PARK   \n",
       "1  6334 S CALIFORNIA AVE           6334                S   CALIFORNIA   \n",
       "2  6334 S CALIFORNIA AVE           6334                S   CALIFORNIA   \n",
       "3  6334 S CALIFORNIA AVE           6334                S   CALIFORNIA   \n",
       "4  6334 S CALIFORNIA AVE           6334                S   CALIFORNIA   \n",
       "\n",
       "  STREET TYPE  WARD ISSUING DEPARTMENT  ...  \\\n",
       "0          RD  38.0          Buildings  ...   \n",
       "1         AVE  17.0          Buildings  ...   \n",
       "2         AVE  17.0          Buildings  ...   \n",
       "3         AVE  17.0          Buildings  ...   \n",
       "4         AVE  17.0          Buildings  ...   \n",
       "\n",
       "                               VIOLATION DESCRIPTION  \\\n",
       "0  Obtain permit before causing or commencing the...   \n",
       "1   Repair or replace exterior balcony. (13-196-530)   \n",
       "2  Equip exit door with door lock hardware so doo...   \n",
       "3  Repair or replace defective lintels. (13-196-5...   \n",
       "4   Repair exterior wall. (13-196-010, 13-196-530 B)   \n",
       "\n",
       "                                         RESPONDENTS   LATITUDE  LONGITUDE  \\\n",
       "0  FRANK CARBONARA | FRANK CARBONARA TRUST C/O FR...  41.952548 -87.811997   \n",
       "1                    BLANCA R CRUZ A/K/A BLANCA CRUZ  41.778042 -87.693511   \n",
       "2                    BLANCA R CRUZ A/K/A BLANCA CRUZ  41.778042 -87.693511   \n",
       "3                    BLANCA R CRUZ A/K/A BLANCA CRUZ  41.778042 -87.693511   \n",
       "4                    BLANCA R CRUZ A/K/A BLANCA CRUZ  41.778042 -87.693511   \n",
       "\n",
       "                                            LOCATION  \\\n",
       "0  {'human_address': '{\"address\": \"\", \"city\": \"\",...   \n",
       "1  {'human_address': '{\"address\": \"\", \"city\": \"\",...   \n",
       "2  {'human_address': '{\"address\": \"\", \"city\": \"\",...   \n",
       "3  {'human_address': '{\"address\": \"\", \"city\": \"\",...   \n",
       "4  {'human_address': '{\"address\": \"\", \"city\": \"\",...   \n",
       "\n",
       "  Historical Wards 2003-2015 Zip Codes Community Areas Census Tracts  Wards  \n",
       "0                       39.0   22254.0            17.0         392.0   19.0  \n",
       "1                       44.0   21867.0            64.0         319.0   31.0  \n",
       "2                       44.0   21867.0            64.0         319.0   31.0  \n",
       "3                       44.0   21867.0            64.0         319.0   31.0  \n",
       "4                       44.0   21867.0            64.0         319.0   31.0  \n",
       "\n",
       "[5 rows x 27 columns]"
      ]
     },
     "execution_count": 3,
     "metadata": {},
     "output_type": "execute_result"
    }
   ],
   "source": [
    "ordinance_file = \"ordinance-violations_2010.csv\"\n",
    "ordinance_df = pd.read_csv(ordinance_file)\n",
    "ordinance_df.head()"
   ]
  },
  {
   "cell_type": "markdown",
   "metadata": {},
   "source": [
    "### Transform Zip DataFrame"
   ]
  },
  {
   "cell_type": "code",
   "execution_count": 35,
   "metadata": {
    "ExecuteTime": {
     "end_time": "2019-11-02T18:51:33.243545Z",
     "start_time": "2019-11-02T18:51:32.985530Z"
    },
    "scrolled": true
   },
   "outputs": [
    {
     "data": {
      "text/html": [
       "<div>\n",
       "<style scoped>\n",
       "    .dataframe tbody tr th:only-of-type {\n",
       "        vertical-align: middle;\n",
       "    }\n",
       "\n",
       "    .dataframe tbody tr th {\n",
       "        vertical-align: top;\n",
       "    }\n",
       "\n",
       "    .dataframe thead th {\n",
       "        text-align: right;\n",
       "    }\n",
       "</style>\n",
       "<table border=\"1\" class=\"dataframe\">\n",
       "  <thead>\n",
       "    <tr style=\"text-align: right;\">\n",
       "      <th></th>\n",
       "      <th>zipcode</th>\n",
       "      <th>population</th>\n",
       "    </tr>\n",
       "    <tr>\n",
       "      <th>id</th>\n",
       "      <th></th>\n",
       "      <th></th>\n",
       "    </tr>\n",
       "  </thead>\n",
       "  <tbody>\n",
       "    <tr>\n",
       "      <td>0</td>\n",
       "      <td>602</td>\n",
       "      <td>124560</td>\n",
       "    </tr>\n",
       "    <tr>\n",
       "      <td>1</td>\n",
       "      <td>603</td>\n",
       "      <td>164067</td>\n",
       "    </tr>\n",
       "    <tr>\n",
       "      <td>2</td>\n",
       "      <td>606</td>\n",
       "      <td>19845</td>\n",
       "    </tr>\n",
       "    <tr>\n",
       "      <td>3</td>\n",
       "      <td>610</td>\n",
       "      <td>87048</td>\n",
       "    </tr>\n",
       "    <tr>\n",
       "      <td>4</td>\n",
       "      <td>612</td>\n",
       "      <td>201030</td>\n",
       "    </tr>\n",
       "  </tbody>\n",
       "</table>\n",
       "</div>"
      ],
      "text/plain": [
       "    zipcode  population\n",
       "id                     \n",
       "0       602      124560\n",
       "1       603      164067\n",
       "2       606       19845\n",
       "3       610       87048\n",
       "4       612      201030"
      ]
     },
     "execution_count": 35,
     "metadata": {},
     "output_type": "execute_result"
    }
   ],
   "source": [
    "new_zip_df = zip_df[[\"population\", \"zipcode\"]]\n",
    "final_zip_df = zip_group.reset_index()\n",
    "final_zip_df.index.name = 'id'\n",
    "zip_group = new_zip_df.groupby('zipcode').sum()\n",
    "final_zip_df = final_zip_df.dropna()\n",
    "final_zip_df.head()"
   ]
  },
  {
   "cell_type": "markdown",
   "metadata": {},
   "source": [
    "### Transform Ordinance DataFrame"
   ]
  },
  {
   "cell_type": "code",
   "execution_count": 26,
   "metadata": {
    "ExecuteTime": {
     "end_time": "2019-11-02T18:46:33.571236Z",
     "start_time": "2019-11-02T18:46:33.519252Z"
    }
   },
   "outputs": [
    {
     "data": {
      "text/html": [
       "<div>\n",
       "<style scoped>\n",
       "    .dataframe tbody tr th:only-of-type {\n",
       "        vertical-align: middle;\n",
       "    }\n",
       "\n",
       "    .dataframe tbody tr th {\n",
       "        vertical-align: top;\n",
       "    }\n",
       "\n",
       "    .dataframe thead th {\n",
       "        text-align: right;\n",
       "    }\n",
       "</style>\n",
       "<table border=\"1\" class=\"dataframe\">\n",
       "  <thead>\n",
       "    <tr style=\"text-align: right;\">\n",
       "      <th></th>\n",
       "      <th>zipcode</th>\n",
       "      <th>violation_code</th>\n",
       "      <th>violation_desc</th>\n",
       "      <th>violation_date</th>\n",
       "    </tr>\n",
       "    <tr>\n",
       "      <th>id</th>\n",
       "      <th></th>\n",
       "      <th></th>\n",
       "      <th></th>\n",
       "      <th></th>\n",
       "    </tr>\n",
       "  </thead>\n",
       "  <tbody>\n",
       "    <tr>\n",
       "      <td>e7a5f1c88a4f8e4407830caea275d985e19b514f</td>\n",
       "      <td>22254.0</td>\n",
       "      <td>220096</td>\n",
       "      <td>Obtain permit before causing or commencing the...</td>\n",
       "      <td>2010-02-19T09:00:00.000</td>\n",
       "    </tr>\n",
       "    <tr>\n",
       "      <td>8208b0059edd73ac9f1f2026443d60d3a57ed959</td>\n",
       "      <td>21867.0</td>\n",
       "      <td>66034</td>\n",
       "      <td>Repair or replace exterior balcony. (13-196-530)</td>\n",
       "      <td>2010-02-26T09:00:00.000</td>\n",
       "    </tr>\n",
       "    <tr>\n",
       "      <td>e326ee048b4249fbd261f53492e254fbbc86baa3</td>\n",
       "      <td>21867.0</td>\n",
       "      <td>15012</td>\n",
       "      <td>Equip exit door with door lock hardware so doo...</td>\n",
       "      <td>2010-02-26T09:00:00.000</td>\n",
       "    </tr>\n",
       "    <tr>\n",
       "      <td>16c61b0f79e7ba45b5cd2ff5c556b8c095a13b0c</td>\n",
       "      <td>21867.0</td>\n",
       "      <td>65014</td>\n",
       "      <td>Repair or replace defective lintels. (13-196-5...</td>\n",
       "      <td>2010-02-26T09:00:00.000</td>\n",
       "    </tr>\n",
       "    <tr>\n",
       "      <td>04462c58cc95b65389faf423022cb309535bc03a</td>\n",
       "      <td>21867.0</td>\n",
       "      <td>61014</td>\n",
       "      <td>Repair exterior wall. (13-196-010, 13-196-530 B)</td>\n",
       "      <td>2010-02-26T09:00:00.000</td>\n",
       "    </tr>\n",
       "  </tbody>\n",
       "</table>\n",
       "</div>"
      ],
      "text/plain": [
       "                                          zipcode violation_code  \\\n",
       "id                                                                 \n",
       "e7a5f1c88a4f8e4407830caea275d985e19b514f  22254.0         220096   \n",
       "8208b0059edd73ac9f1f2026443d60d3a57ed959  21867.0          66034   \n",
       "e326ee048b4249fbd261f53492e254fbbc86baa3  21867.0          15012   \n",
       "16c61b0f79e7ba45b5cd2ff5c556b8c095a13b0c  21867.0          65014   \n",
       "04462c58cc95b65389faf423022cb309535bc03a  21867.0          61014   \n",
       "\n",
       "                                                                             violation_desc  \\\n",
       "id                                                                                            \n",
       "e7a5f1c88a4f8e4407830caea275d985e19b514f  Obtain permit before causing or commencing the...   \n",
       "8208b0059edd73ac9f1f2026443d60d3a57ed959   Repair or replace exterior balcony. (13-196-530)   \n",
       "e326ee048b4249fbd261f53492e254fbbc86baa3  Equip exit door with door lock hardware so doo...   \n",
       "16c61b0f79e7ba45b5cd2ff5c556b8c095a13b0c  Repair or replace defective lintels. (13-196-5...   \n",
       "04462c58cc95b65389faf423022cb309535bc03a   Repair exterior wall. (13-196-010, 13-196-530 B)   \n",
       "\n",
       "                                                   violation_date  \n",
       "id                                                                 \n",
       "e7a5f1c88a4f8e4407830caea275d985e19b514f  2010-02-19T09:00:00.000  \n",
       "8208b0059edd73ac9f1f2026443d60d3a57ed959  2010-02-26T09:00:00.000  \n",
       "e326ee048b4249fbd261f53492e254fbbc86baa3  2010-02-26T09:00:00.000  \n",
       "16c61b0f79e7ba45b5cd2ff5c556b8c095a13b0c  2010-02-26T09:00:00.000  \n",
       "04462c58cc95b65389faf423022cb309535bc03a  2010-02-26T09:00:00.000  "
      ]
     },
     "execution_count": 26,
     "metadata": {},
     "output_type": "execute_result"
    }
   ],
   "source": [
    "new_ordinance_df = ordinance_df[[\"ID\", \"Zip Codes\",\"VIOLATION CODE\",\"VIOLATION DESCRIPTION\",\"VIOLATION DATE\"]]\n",
    "new_ordinance_df.columns = [\"id\", \"zipcode\", \"violation_code\", \"violation_desc\", \"violation_date\"]\n",
    "new_ordinance_df = new_ordinance_df.set_index('id')\n",
    "new_ordinance_df = new_ordinance_df.dropna()\n",
    "new_ordinance_df.head()"
   ]
  },
  {
   "cell_type": "markdown",
   "metadata": {},
   "source": [
    "### Create database connection"
   ]
  },
  {
   "cell_type": "code",
   "execution_count": 19,
   "metadata": {
    "ExecuteTime": {
     "end_time": "2019-11-02T18:39:59.130274Z",
     "start_time": "2019-11-02T18:39:58.977267Z"
    }
   },
   "outputs": [],
   "source": [
    "rds_connection_string = \"postgres:postgres@localhost:5432/violations_db\"\n",
    "engine = create_engine(f'postgresql://{rds_connection_string}')"
   ]
  },
  {
   "cell_type": "code",
   "execution_count": 23,
   "metadata": {
    "ExecuteTime": {
     "end_time": "2019-11-02T18:45:17.699116Z",
     "start_time": "2019-11-02T18:45:17.619134Z"
    }
   },
   "outputs": [
    {
     "data": {
      "text/plain": [
       "['violations', 'zips']"
      ]
     },
     "execution_count": 23,
     "metadata": {},
     "output_type": "execute_result"
    }
   ],
   "source": [
    "# Confirm tables\n",
    "engine.table_names()"
   ]
  },
  {
   "cell_type": "markdown",
   "metadata": {},
   "source": [
    "### Load DataFrames into database"
   ]
  },
  {
   "cell_type": "code",
   "execution_count": 36,
   "metadata": {
    "ExecuteTime": {
     "end_time": "2019-11-02T18:51:48.157744Z",
     "start_time": "2019-11-02T18:51:41.682486Z"
    }
   },
   "outputs": [],
   "source": [
    "final_zip_df.to_sql(name='zips', con=engine, if_exists='append', index=True)"
   ]
  },
  {
   "cell_type": "code",
   "execution_count": 30,
   "metadata": {
    "ExecuteTime": {
     "end_time": "2019-11-02T18:47:52.007799Z",
     "start_time": "2019-11-02T18:47:45.807364Z"
    }
   },
   "outputs": [],
   "source": [
    "new_ordinance_df.to_sql(name='violations', con=engine, if_exists='append', index=True)"
   ]
  }
 ],
 "metadata": {
  "hide_input": false,
  "kernelspec": {
   "display_name": "Python 3",
   "language": "python",
   "name": "python3"
  },
  "language_info": {
   "codemirror_mode": {
    "name": "ipython",
    "version": 3
   },
   "file_extension": ".py",
   "mimetype": "text/x-python",
   "name": "python",
   "nbconvert_exporter": "python",
   "pygments_lexer": "ipython3",
   "version": "3.7.4"
  },
  "varInspector": {
   "cols": {
    "lenName": 16,
    "lenType": 16,
    "lenVar": 40
   },
   "kernels_config": {
    "python": {
     "delete_cmd_postfix": "",
     "delete_cmd_prefix": "del ",
     "library": "var_list.py",
     "varRefreshCmd": "print(var_dic_list())"
    },
    "r": {
     "delete_cmd_postfix": ") ",
     "delete_cmd_prefix": "rm(",
     "library": "var_list.r",
     "varRefreshCmd": "cat(var_dic_list()) "
    }
   },
   "types_to_exclude": [
    "module",
    "function",
    "builtin_function_or_method",
    "instance",
    "_Feature"
   ],
   "window_display": false
  }
 },
 "nbformat": 4,
 "nbformat_minor": 2
}
